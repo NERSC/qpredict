{
 "cells": [
  {
   "cell_type": "code",
   "execution_count": 130,
   "metadata": {
    "collapsed": false
   },
   "outputs": [],
   "source": [
    "#db stuff\n",
    "from sqlalchemy import (create_engine, inspect, desc, Table, Column, Integer, String, DateTime, MetaData)\n",
    "from sqlalchemy.sql import select\n",
    "from sqlalchemy.ext.declarative import declarative_base\n",
    "from sqlalchemy.orm import sessionmaker\n",
    "import json\n",
    "\n",
    "#time handlers\n",
    "import time\n",
    "from datetime import (datetime,timedelta)\n",
    "\n",
    "#numerics\n",
    "import numpy as np\n",
    "import pandas as pd\n",
    "\n",
    "#plotting\n",
    "import matplotlib.pyplot as plt\n",
    "import matplotlib.font_manager as font_manager\n",
    "from matplotlib import dates\n",
    "from matplotlib.ticker import FuncFormatter\n",
    "from mpl_toolkits.mplot3d import Axes3D\n",
    "%matplotlib inline\n",
    "\n",
    "#specialiced classes from ankit\n",
    "import data\n",
    "from queues import *\n",
    "\n",
    "#machine learning\n",
    "from sklearn import preprocessing\n",
    "from sklearn.decomposition import PCA"
   ]
  },
  {
   "cell_type": "markdown",
   "metadata": {},
   "source": [
    "# Plot Settings"
   ]
  },
  {
   "cell_type": "code",
   "execution_count": 2,
   "metadata": {
    "collapsed": true
   },
   "outputs": [],
   "source": [
    "# Set the font dictionaries (for plot title and axis titles)\n",
    "title_font = {'fontname':'System San Francisco Display Regular', 'size':'16', 'color':'black', 'weight':'normal',\n",
    "              'verticalalignment':'bottom'} # Bottom vertical alignment for more space\n",
    "axis_font = {'fontname':'System San Francisco Display Regular', 'size':'14'}\n",
    "font_path = \"/Library/Fonts/System San Francisco Display Regular.ttf\"\n",
    "font_path_bf = \"/Library/Fonts/System San Francisco Display Bold.ttf\"\n",
    "font_prop_title = font_manager.FontProperties(fname=font_path_bf, size=30)\n",
    "font_prop_axis = font_manager.FontProperties(fname=font_path, size=26)\n",
    "font_prop_legend = font_manager.FontProperties(fname=font_path, size=20)\n",
    "\n",
    "#date formatter:\n",
    "hfmt = dates.DateFormatter('%Y-%m-%d')"
   ]
  },
  {
   "cell_type": "markdown",
   "metadata": {},
   "source": [
    "# Useful functions"
   ]
  },
  {
   "cell_type": "code",
   "execution_count": 3,
   "metadata": {
    "collapsed": true
   },
   "outputs": [],
   "source": [
    "def string_to_list(string):\n",
    "    split=string.replace('[','').replace(']','').replace('\\'','').split(',')\n",
    "    split=[x.strip() for x in split]\n",
    "    return split\n",
    "\n",
    "def merge_alloc_dicts(dict1,dict2):\n",
    "    result=dict1.copy()\n",
    "    \n",
    "    for key in dict2:\n",
    "        if key in dict1:\n",
    "            tmpval=dict1[key]+dict2[key]\n",
    "            if tmpval==0:\n",
    "                del result[key]\n",
    "            else:\n",
    "                result[key]=tmpval\n",
    "    return result"
   ]
  },
  {
   "cell_type": "markdown",
   "metadata": {},
   "source": [
    "# SQLAlchemy Setup"
   ]
  },
  {
   "cell_type": "code",
   "execution_count": 4,
   "metadata": {
    "collapsed": true
   },
   "outputs": [],
   "source": [
    "#connect to db and return a cursor:\n",
    "with open('/Users/tkurth/Dropbox/Documents/NERSC/General/mysql_staffdb_creds.json') as mysql_creds:\n",
    "        conn_config = json.load(mysql_creds)\n",
    "\n",
    "hostname=conn_config['host']\n",
    "databasename=conn_config['database']\n",
    "username=conn_config['user']\n",
    "password=conn_config['password']\n",
    "portnumber=conn_config['port']\n",
    "\n",
    "#create engine\n",
    "eng = create_engine('mysql://'+username+':'+password+'@'+hostname+':'+portnumber+'/'+databasename)\n",
    "#meta=MetaData()\n",
    "#meta.reflect(bind=eng)\n",
    "base = declarative_base()\n",
    "base.metadata.bind = eng\n",
    "base.metadata.reflect(bind=eng)\n",
    "\n",
    "#session\n",
    "session = sessionmaker(bind=eng)\n",
    "sess = session()\n",
    "\n",
    "#get summary table:\n",
    "summary=base.metadata.tables['summary']"
   ]
  },
  {
   "cell_type": "markdown",
   "metadata": {
    "collapsed": true
   },
   "source": [
    "# Get the Data"
   ]
  },
  {
   "cell_type": "code",
   "execution_count": 5,
   "metadata": {
    "collapsed": false
   },
   "outputs": [],
   "source": [
    "\"\"\"This is basically main.py\"\"\"\n",
    "# Global params\n",
    "directory = \"/Users/tkurth/Dropbox/Documents/NERSC/JobWaitPredict/ankit/qpredict/data/\"\n",
    "    \n",
    "with open('/Users/tkurth/Dropbox/Documents/NERSC/General/mysql_staffdb_creds.json') as mysql_creds:\n",
    "    conn_config = json.load(mysql_creds)\n",
    "\n",
    "hostname=conn_config['host']\n",
    "databasename=conn_config['database']\n",
    "username=conn_config['user']\n",
    "password=conn_config['password']\n",
    "portnumber=conn_config['port']\n",
    "\n",
    "tstart = \"1458591001\"\n",
    "\n",
    "for machine in ['cori']:\n",
    "    debug = DebugQueue(machine)\n",
    "    regular = RegQueue(machine)\n",
    "    shared = SharedQueue(machine)\n",
    "    \n",
    "    queue = {} # Return object for queue data\n",
    "    completed = {} # Return object for completed job data\n",
    "\n",
    "    try:\n",
    "        with open(\"snapshots_\"+machine+\".txt\") as f:\n",
    "            timestamps = f.read().splitlines()\n",
    "    except IOError:\n",
    "        print \"Error opening timestamps file\"\n",
    "\n",
    "    # Get current queue data\n",
    "    queue = data.loadQueuedJobData(machine,directory,timestamps)\n",
    "    debug.queuedJobs  = {k:v for k,v in queue.items() if v.partition == 'debug'} #filter(lambda x: x.partition == 'debug', coriJobList)\n",
    "    regular.queuedJobs = {k:v for k,v in queue.items() if (v.partition == 'regular') | (v.partition == 'regularx')} \n",
    "    shared.queuedJobs = {k:v for k,v in queue.items() if v.partition == 'shared'} #filter(lambda x: x.partition == 'shared', coriJobList) \n",
    "\n",
    "    # Get completed jobs data\n",
    "    completed = data.loadCompletedJobData(machine,tstart,databasename,username,password,hostname,portnumber)"
   ]
  },
  {
   "cell_type": "markdown",
   "metadata": {},
   "source": [
    "# Pack into dataframe for quick data transformations"
   ]
  },
  {
   "cell_type": "code",
   "execution_count": 114,
   "metadata": {
    "collapsed": false
   },
   "outputs": [],
   "source": [
    "# I like chinese bears, so I pack the data into a pandas dataframe\n",
    "queuedf=pd.DataFrame([x.to_dict() for x in queue.values()])\n",
    "#rename columns with class labels to apply one-hot later\n",
    "queuedf.rename(columns={'partition':'partition_tag','qos':'qos_tag'},inplace=True)\n",
    "queuedf.sort(['jobId'],inplace=True)\n",
    "\n",
    "#completed\n",
    "compdf=pd.DataFrame([x.to_dict() for x in completed.values()])\n",
    "del compdf['machine']\n",
    "del compdf['partition']\n",
    "del compdf['qos']\n",
    "del compdf['reqNodes']\n",
    "del compdf['reqWalltime']\n",
    "del compdf['obsWalltime']\n",
    "compdf['obsWaitTime']=compdf['obsWaitTime'].astype(float)\n",
    "#observed waittime is label\n",
    "compdf.rename(columns={'obsWaitTime':'obsWaitTime_label'},inplace=True)\n",
    "compdf.sort(['jobId'],inplace=True)"
   ]
  },
  {
   "cell_type": "code",
   "execution_count": 115,
   "metadata": {
    "collapsed": false
   },
   "outputs": [],
   "source": [
    "#merge the frames on jobid:\n",
    "alldf=pd.merge(compdf,queuedf,how='inner',on='jobId')\n",
    "del alldf['machine']\n",
    "\n",
    "#only take values where partition is specified\n",
    "alldf.dropna(axis=0,how='any',inplace=True)\n",
    "\n",
    "alldf.reset_index(drop=True,inplace=True)"
   ]
  },
  {
   "cell_type": "markdown",
   "metadata": {},
   "source": [
    "# Plot Distribution of Wait times"
   ]
  },
  {
   "cell_type": "code",
   "execution_count": 116,
   "metadata": {
    "collapsed": false
   },
   "outputs": [
    {
     "data": {
      "image/png": "[encoded data removed]",
      "text/plain": [
       "<matplotlib.figure.Figure at 0x10ae95e50>"
      ]
     },
     "metadata": {},
     "output_type": "display_data"
    }
   ],
   "source": [
    "Y,X=np.histogram(list(alldf['obsWaitTime_label']),bins=20)\n",
    "X=[0.5*(X[i]+X[i+1]) for i in range(len(X)-1)]\n",
    "plt.bar(X,Y,width=200)\n",
    "plt.show()"
   ]
  },
  {
   "cell_type": "markdown",
   "metadata": {},
   "source": [
    "# Do One-Hot Encoding and PCA "
   ]
  },
  {
   "cell_type": "code",
   "execution_count": 117,
   "metadata": {
    "collapsed": false
   },
   "outputs": [],
   "source": [
    "#generate class labels for one-hot encoding\n",
    "partitions=list(set(alldf['partition_tag']))\n",
    "qosclasses=list(set(alldf['qos_tag']))\n",
    "hotdf=alldf.copy()\n",
    "hotdf['partition_tag']=alldf.apply(lambda x: partitions.index(x['partition_tag']),axis=1)\n",
    "hotdf['qos_tag']=hotdf.apply(lambda x: qosclasses.index(x['qos_tag']),axis=1)\n",
    "\n",
    "#all columns with \"tag\" suffixes get one-hot encoded:\n",
    "onehotcolumns=[x for x in hotdf.columns[2:] if 'tag' in x]\n",
    "for feature in onehotcolumns:\n",
    "    #what is the number of categories:\n",
    "    num_cat=np.max(hotdf[feature])+1\n",
    "    #create dataframe to fill\n",
    "    fname=feature.split('tag')[0]\n",
    "    hotcols=[fname+str(c) for c in range(num_cat)]\n",
    "    tmpcols=['jobId']+hotcols\n",
    "    tmpdf=pd.DataFrame(columns=tmpcols)\n",
    "    tmpdf[['jobId']]=hotdf[['jobId']].copy()\n",
    "    for c in hotcols:\n",
    "        tmpdf[hotcols]=0.\n",
    "    #join back the frames\n",
    "    hotdf=pd.merge(hotdf,tmpdf,how='inner',on='jobId').copy()\n",
    "    \n",
    "    #set the hotcols to the correct values\n",
    "    for i in range(num_cat):\n",
    "        hotdf.loc[hotdf[feature]==i,fname+str(i)]=1.\n",
    "\n",
    "#delete tag columns\n",
    "del hotdf['qos_tag']\n",
    "del hotdf['partition_tag']"
   ]
  },
  {
   "cell_type": "markdown",
   "metadata": {},
   "source": [
    "## Perform PCA"
   ]
  },
  {
   "cell_type": "code",
   "execution_count": 119,
   "metadata": {
    "collapsed": false
   },
   "outputs": [],
   "source": [
    "#perform preprocessing to stabilize PCA\n",
    "X=hotdf.as_matrix(columns=hotdf.columns[2:])\n",
    "X=preprocessing.scale(X,with_mean=True,with_std=True,axis=0)\n",
    "Y=np.asarray(hotdf.as_matrix(columns=['obsWaitTime_label']),dtype=float)\n",
    "Y=preprocessing.scale(Y,with_mean=True,with_std=True,axis=0)"
   ]
  },
  {
   "cell_type": "code",
   "execution_count": 135,
   "metadata": {
    "collapsed": false
   },
   "outputs": [
    {
     "data": {
      "image/png": "[encoded data removed]",
      "text/plain": [
       "<matplotlib.figure.Figure at 0x10c99a250>"
      ]
     },
     "metadata": {},
     "output_type": "display_data"
    }
   ],
   "source": [
    "#perform PCA and plot:\n",
    "pca = PCA(n_components=2)\n",
    "pca.fit_transform(X)\n",
    "\n",
    "#plot\n",
    "fig = plt.figure()\n",
    "ax = fig.add_subplot(111)\n",
    "ax.scatter(X[:,0], np.reshape(Y,Y.shape[0]), color='red', marker='o')\n",
    "ax.scatter(X[:,1], np.reshape(Y,Y.shape[0]), color='blue', marker='v')\n",
    "\n",
    "#ax.set_xlabel('X Label')\n",
    "#ax.set_ylabel('Y Label')\n",
    "#ax.set_zlabel('Z Label')\n",
    "\n",
    "plt.show()"
   ]
  },
  {
   "cell_type": "markdown",
   "metadata": {},
   "source": [
    "# Store DF as CSV"
   ]
  },
  {
   "cell_type": "code",
   "execution_count": 139,
   "metadata": {
    "collapsed": false
   },
   "outputs": [],
   "source": [
    "#split the sample in training, validation and testing\n",
    "train_fraction=0.6\n",
    "validation_fraction=0.2\n",
    "test_fraction=0.2\n",
    "numrows=hotdf.shape[0]\n",
    "rows=np.arange(numrows)\n",
    "np.random.shuffle(rows)\n",
    "shuffledf=hotdf[hotdf.columns[1:]].iloc[rows].reset_index(drop=True)\n",
    "\n",
    "#training set\n",
    "train_stop=int(np.floor(train_fraction*numrows))\n",
    "shuffledf[:train_stop].to_csv('cori_data_train.csv',header=True)\n",
    "#validation set\n",
    "validation_stop=int(np.floor(validation_fraction*numrows))+train_stop\n",
    "shuffledf[train_stop:validation_stop].to_csv('cori_data_validate.csv',header=True)\n",
    "#test set:\n",
    "shuffledf[validation_stop:].to_csv('cori_data_test.csv',header=True)"
   ]
  },
  {
   "cell_type": "code",
   "execution_count": null,
   "metadata": {
    "collapsed": true
   },
   "outputs": [],
   "source": []
  }
 ],
 "metadata": {
  "kernelspec": {
   "display_name": "Python 2",
   "language": "python",
   "name": "python2"
  },
  "language_info": {
   "codemirror_mode": {
    "name": "ipython",
    "version": 2
   },
   "file_extension": ".py",
   "mimetype": "text/x-python",
   "name": "python",
   "nbconvert_exporter": "python",
   "pygments_lexer": "ipython2",
   "version": "2.7.10"
  }
 },
 "nbformat": 4,
 "nbformat_minor": 0
}
